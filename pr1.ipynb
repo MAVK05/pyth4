{
 "cells": [
  {
   "cell_type": "code",
   "execution_count": 1,
   "id": "9f95a9ea",
   "metadata": {},
   "outputs": [
    {
     "name": "stdout",
     "output_type": "stream",
     "text": [
      "hello\n"
     ]
    }
   ],
   "source": [
    "#starting with a new code\n",
    "print(f\"hello\")"
   ]
  },
  {
   "cell_type": "code",
   "execution_count": 1,
   "id": "342a8fa0",
   "metadata": {},
   "outputs": [
    {
     "name": "stdout",
     "output_type": "stream",
     "text": [
      "The sum is 50.50000000000003\n"
     ]
    }
   ],
   "source": [
    "sum = 0\n",
    "count = 0\n",
    "i = 0.01\n",
    "\n",
    "while count<100:\n",
    "    sum+= i\n",
    "    i +=0.01\n",
    "    count += 1\n",
    "\n",
    "print(\"The sum is\",sum)    "
   ]
  },
  {
   "cell_type": "code",
   "execution_count": null,
   "id": "5d5e3e63",
   "metadata": {},
   "outputs": [
    {
     "name": "stdout",
     "output_type": "stream",
     "text": [
      "66\n",
      "66\n",
      "6555\n",
      "66\n",
      "6555\n",
      "645444\n",
      "66\n",
      "6555\n",
      "645444\n",
      "63534333\n",
      "66\n",
      "6555\n",
      "645444\n",
      "63534333\n",
      "6252423222\n",
      "66\n",
      "6555\n",
      "645444\n",
      "63534333\n",
      "6252423222\n",
      "615141312111\n"
     ]
    }
   ],
   "source": [
    "for i in range(6,0,-1):\n",
    "    for j in range(6,i-1,-1):\n",
    "        for k in range(1n 8l):\n",
    "           print(f\"{k}{j}\",end = '')\n",
    "        print()\n",
    "        \n",
    "  "
   ]
  },
  {
   "cell_type": "code",
   "execution_count": 20,
   "id": "20f2a1c8",
   "metadata": {},
   "outputs": [
    {
     "name": "stdout",
     "output_type": "stream",
     "text": [
      "1\n",
      "12\n",
      "123\n",
      "1234\n",
      "12345\n",
      "123456\n"
     ]
    }
   ],
   "source": [
    "\n",
    "for i in range(1,7):\n",
    "    for j in range(1,i+1):\n",
    "        print(j,end =\"\")\n",
    "    print()"
   ]
  },
  {
   "cell_type": "code",
   "execution_count": 30,
   "id": "f56eabd6",
   "metadata": {},
   "outputs": [
    {
     "name": "stdout",
     "output_type": "stream",
     "text": [
      "654321\n",
      "65432\n",
      "6543\n",
      "654\n",
      "65\n",
      "6\n"
     ]
    }
   ],
   "source": [
    "for i in range(1,7):\n",
    "    for j in range(6,i-1,-1):\n",
    "        print(j, end = \"\")\n",
    "    print()    "
   ]
  },
  {
   "cell_type": "code",
   "execution_count": 34,
   "id": "53977b74",
   "metadata": {},
   "outputs": [
    {
     "name": "stdout",
     "output_type": "stream",
     "text": [
      "6\n",
      "65\n",
      "654\n",
      "6543\n",
      "65432\n",
      "654321\n"
     ]
    }
   ],
   "source": [
    "for i in range(6,0,-1):\n",
    "    for j in range(6,i-1,-1):\n",
    "        print(j,end= '')\n",
    "    print()    "
   ]
  },
  {
   "cell_type": "code",
   "execution_count": 42,
   "id": "88097381",
   "metadata": {},
   "outputs": [
    {
     "name": "stdout",
     "output_type": "stream",
     "text": [
      "123456\n",
      "12345\n",
      "1234\n",
      "123\n",
      "12\n",
      "1\n"
     ]
    }
   ],
   "source": [
    "for i in range(6,0,-1):\n",
    "    for j in range(1,i+1):\n",
    "        print(j,end =\"\")\n",
    "    print()    "
   ]
  },
  {
   "cell_type": "code",
   "execution_count": 8,
   "id": "926843cd",
   "metadata": {},
   "outputs": [
    {
     "name": "stdout",
     "output_type": "stream",
     "text": [
      "\n",
      "\n",
      "\n",
      "\n",
      "\n",
      "\n"
     ]
    }
   ],
   "source": [
    "for i in range(1,7):\n",
    "    for j in range(1,i):\n",
    "        if (j<i):\n",
    "            print(\"\",end ='')\n",
    "        else:\n",
    "            print(j,end ='')\n",
    "    print()        \n",
    "      "
   ]
  },
  {
   "cell_type": "code",
   "execution_count": 2,
   "id": "0e1b545d",
   "metadata": {},
   "outputs": [
    {
     "name": "stdout",
     "output_type": "stream",
     "text": [
      "123456\n",
      "12345\n",
      "1234\n",
      "123\n",
      "12\n",
      "1\n"
     ]
    }
   ],
   "source": [
    "for i in range (6,0,-1):\n",
    "    for j in range(1,i+1):\n",
    "        print(j,end = \"\")\n",
    "    print()    "
   ]
  },
  {
   "cell_type": "code",
   "execution_count": 18,
   "id": "a1aaf31a",
   "metadata": {},
   "outputs": [
    {
     "name": "stdout",
     "output_type": "stream",
     "text": [
      "12\n"
     ]
    }
   ],
   "source": [
    "print(1, end =\"\")\n",
    "print(2)"
   ]
  },
  {
   "cell_type": "code",
   "execution_count": 1,
   "id": "e106f11b",
   "metadata": {},
   "outputs": [
    {
     "name": "stdout",
     "output_type": "stream",
     "text": [
      "The corresponding no is 4\n"
     ]
    }
   ],
   "source": [
    "x = input(\"enter a letter\")\n",
    "z= x.upper()\n",
    "if (z =='A')or (z == 'B') or (z == 'C'):\n",
    "    print(f\"The corresponding no is 2\")\n",
    "elif (z =='D') or (z == 'E') or (z == 'F'):\n",
    "    print(f\"The corresponding no is 3\")\n",
    "elif (z =='G') or (z == 'H') or (z == 'I'):\n",
    "    print(f\"The corresponding no is 4\")\n",
    "elif (z =='J') or (z == 'K') or (z == 'L'):\n",
    "    print(f\"The corresponding no is 5\")  \n",
    "elif (z =='M') or (z == 'N') or (z == 'O'):\n",
    "    print(f\"The corresponding no is 6\")\n",
    "elif (z =='P') or (z == 'Q') or (z == 'R') or (z =='S'):\n",
    "    print(f\"The corresponding no is 7\")         \n",
    "elif (z =='T') or (z == 'U') or (z == 'V'):\n",
    "    print(f\"The corresponding no is 8\")\n",
    "else:\n",
    "    print(f\"The corresponding no is 9\")             \n"
   ]
  },
  {
   "cell_type": "code",
   "execution_count": 5,
   "id": "bdf45685",
   "metadata": {},
   "outputs": [
    {
     "name": "stdout",
     "output_type": "stream",
     "text": [
      "invalid number\n",
      "The output here is: 20154281274\n"
     ]
    }
   ],
   "source": [
    "x = input('enter a number:')\n",
    "\n",
    "\n",
    "if len(x) != 9 :\n",
    "    print(f\"invalid number\")\n",
    "else:\n",
    "    #calculate the digit\n",
    "    d = sum((i+1)*int(d) for i,d in enumerate(x))%11\n",
    "#getting final\n",
    "d = 'X' if d == 10 else str(d) \n",
    "\n",
    "#final output\n",
    "print(f\"The output here is: {x}{d}\")"
   ]
  },
  {
   "cell_type": "code",
   "execution_count": 11,
   "id": "b5f29273",
   "metadata": {},
   "outputs": [
    {
     "name": "stdout",
     "output_type": "stream",
     "text": [
      "The decimal value is 298\n"
     ]
    }
   ],
   "source": [
    "x = input(\"enter you character:\")\n",
    "y = int(x,16)\n",
    "print(f\"The decimal value is {y}\")    \n",
    "    \n",
    "\n"
   ]
  },
  {
   "cell_type": "code",
   "execution_count": null,
   "id": "d570f669",
   "metadata": {},
   "outputs": [
    {
     "name": "stdout",
     "output_type": "stream",
     "text": [
      "The binary value is 1011\n"
     ]
    }
   ],
   "source": [
    "a = input(\"Enter a hex character: \")#enter a character\n",
    "b = int(a,16)#convert hex to decimal\n",
    "c = bin(b)#convert decimal to binary\n",
    "print(f\"The binary value is {c[2:]}\")#final output obtained"
   ]
  },
  {
   "cell_type": "code",
   "execution_count": 10,
   "id": "7680e0b1",
   "metadata": {},
   "outputs": [
    {
     "name": "stdout",
     "output_type": "stream",
     "text": [
      "The length of the string is:16\n",
      "The last charcater of string is:a\n",
      "The white spaces between the string is:2\n"
     ]
    }
   ],
   "source": [
    "x = input(\"enter a string\")\n",
    "print(f\"The length of the string is:{len(x)}\")\n",
    "print(f\"The last charcater of string is:{x[len(x)-1]}\")  \n",
    "print(f\"The white spaces between the string is:{x.count(\" \")}\")                                                                                                  "
   ]
  },
  {
   "cell_type": "code",
   "execution_count": null,
   "id": "e650e643",
   "metadata": {},
   "outputs": [
    {
     "name": "stdout",
     "output_type": "stream",
     "text": [
      "Decimal: 4097\n",
      "Hexadecimal : 0x1001\n"
     ]
    }
   ],
   "source": [
    "x = input(\"Enter a binary number of 4-bits : \")\n",
    "y = int(x,16)#conversion to decimal\n",
    "print(f\"Decimal: {y}\")\n",
    "print(f\"Hexadecimal : {hex(y)}\")# conversion to hexadecimal and output\n",
    "\n"
   ]
  },
  {
   "cell_type": "code",
   "execution_count": 8,
   "id": "21ac533e",
   "metadata": {},
   "outputs": [
    {
     "name": "stdout",
     "output_type": "stream",
     "text": [
      "Your username is markHHHH\n",
      "Your username is markIIII\n",
      "Your username is markSSSS\n",
      "Your username is markCCCC\n"
     ]
    }
   ],
   "source": [
    "import random\n",
    "x = input(\"enter your name: \")\n",
    "for i in range(4):\n",
    "    if(i<=4):\n",
    "        y = chr(random.randint(65,90))\n",
    "        i+=1\n",
    "    print(f\"Your username is {x}{y}{y}{y}{y}\")\n",
    "                \n",
    "    "
   ]
  },
  {
   "cell_type": "code",
   "execution_count": 9,
   "id": "72bb48cc",
   "metadata": {},
   "outputs": [
    {
     "name": "stdout",
     "output_type": "stream",
     "text": [
      "Your username is markCMVC\n"
     ]
    }
   ],
   "source": [
    "import random\n",
    "x = input(\"enter your name: \")\n",
    "username = x + ''.join(chr(random.randint(65, 90)) for _ in range(4))\n",
    "print(f\"Your username is {username}\")"
   ]
  },
  {
   "cell_type": "code",
   "execution_count": 10,
   "id": "e3e0c847",
   "metadata": {},
   "outputs": [
    {
     "name": "stdout",
     "output_type": "stream",
     "text": [
      "Hello\n",
      "Hello\n",
      "Hello\n",
      "Hello\n"
     ]
    }
   ],
   "source": [
    "for _ in range(4):\n",
    "    print(\"Hello\")\n"
   ]
  },
  {
   "cell_type": "code",
   "execution_count": 17,
   "id": "8a5f1051",
   "metadata": {},
   "outputs": [
    {
     "name": "stdout",
     "output_type": "stream",
     "text": [
      "88\n",
      "44\n",
      "11\n",
      "\n"
     ]
    }
   ],
   "source": [
    "x = int(input(\"Enter a number: \"))\n",
    "y = int(input(\"Enter a number: \"))\n",
    "z = int(input(\"Enter a number: \"))\n",
    "#logic\n",
    "if (x>y) and (x>z):\n",
    "    if (y>z):\n",
    "        print(f\"{x}\\n {y}\\n {z}\\n\")\n",
    "    else:\n",
    "        print(f\"{x}\\n {z}\\n {y}\\n\")\n",
    "elif (y>x) and (y>z):\n",
    "    if (x>z):\n",
    "        print(f\"{y}\\n {x}\\n {z}\\n\")\n",
    "    else:\n",
    "        print(f\"{y}\\n {z}\\n {x}\\n\")\n",
    "else:\n",
    "     if (y>x):\n",
    "          print(f\"{z}\\n{y}\\n{x}\\n\")\n",
    "     else:\n",
    "          print(f\"{z}\\n{x}\\n{y}\\n\")                                                                             \n",
    "                            \n",
    "\n",
    "\n",
    "\n"
   ]
  },
  {
   "cell_type": "code",
   "execution_count": 3,
   "id": "dd4af20f",
   "metadata": {},
   "outputs": [
    {
     "name": "stdout",
     "output_type": "stream",
     "text": [
      "the line equation for two points (4.5-5.5) and (6.6-6.5) is y = -0.4761904761904763x + -3.3571428571428568\n"
     ]
    }
   ],
   "source": [
    "x1 = float(input(\"enter the x coordinate for pint 1: \"))\n",
    "y1 = float(input(\"enter the y coordinate for pint 1: \"))\n",
    "x2 = float(input(\"enter the x coordinate for pint 2: \"))\n",
    "y2 = float(input(\"enter the y coordinate for pint 2: \"))\n",
    "#from the input calculate\n",
    "m = (y2 -y1)/(x2 - x1)\n",
    "b = y1 - (m*x1)\n",
    "\n",
    "if (m==1) or (b == 0):\n",
    "    print(f' ')\n",
    "else:\n",
    "    print(f\"the line equation for two points ({x1}{y1}) and ({x2}{y2}) is y = {m}x + {b}\")    \n",
    "\n"
   ]
  },
  {
   "cell_type": "code",
   "execution_count": 6,
   "id": "a82943d6",
   "metadata": {},
   "outputs": [
    {
     "name": "stdout",
     "output_type": "stream",
     "text": [
      "invalid\n"
     ]
    }
   ],
   "source": [
    "x = input(\"Enter a phone number in the format (xxx) xxx-xxxx: \")\n",
    "if len(x)==14:\n",
    "    print('valid')\n",
    "else:\n",
    "    print('invalid')\n",
    "\n"
   ]
  },
  {
   "cell_type": "code",
   "execution_count": 9,
   "id": "3c4da1d4",
   "metadata": {},
   "outputs": [
    {
     "name": "stdout",
     "output_type": "stream",
     "text": [
      "valid\n"
     ]
    }
   ],
   "source": [
    "import re\n",
    "\n",
    "x = input(\"enter the phone number in the format (xxx) xxx-xxxx: \")\n",
    "y = r'^\\(\\d{3}\\) \\d{3}-\\d{4}$'\n",
    "\n",
    "if re.match(y,x):\n",
    "    print(\"valid\")\n",
    "else:\n",
    "    print(\"invalid\")"
   ]
  },
  {
   "cell_type": "code",
   "execution_count": 14,
   "id": "8a260b86",
   "metadata": {},
   "outputs": [
    {
     "name": "stdout",
     "output_type": "stream",
     "text": [
      "Your password is :CgN\n"
     ]
    }
   ],
   "source": [
    "\n",
    "import random\n",
    "\n",
    "x = int(input(\"enter the length of passowrd:\"))\n",
    "passd = ''.join(chr(random.randint(48,122))for _ in range(x))\n",
    "print(f\"Your password is :{passd}\")"
   ]
  },
  {
   "cell_type": "code",
   "execution_count": 16,
   "id": "28ce7bd2",
   "metadata": {},
   "outputs": [
    {
     "name": "stdout",
     "output_type": "stream",
     "text": [
      "0\n"
     ]
    }
   ],
   "source": [
    "s = input(\"enter a string\")\n",
    "\n",
    "\n",
    "for i in range(len(s)):\n",
    "    count = 0\n",
    "    if (i != i):\n",
    "        count+=1\n",
    "    else:\n",
    "        pass\n",
    "print(f\"{count}\")    "
   ]
  },
  {
   "cell_type": "code",
   "execution_count": 2,
   "id": "99c68fe2",
   "metadata": {},
   "outputs": [
    {
     "name": "stdout",
     "output_type": "stream",
     "text": [
      "Length of longest substring without repeating characters: 3\n"
     ]
    }
   ],
   "source": [
    "s = input(\"Enter your string: \")\n",
    "longest = 0\n",
    "current = \"\"\n",
    "for ch in s:\n",
    "    if ch not in current:\n",
    "        current += ch\n",
    "        longest = max(longest, len(current))\n",
    "    else:\n",
    "        current = current[current.index(ch)+1:] + ch\n",
    "print(\"Length of longest substring without repeating characters:\", longest)\n",
    "\n",
    "   "
   ]
  },
  {
   "cell_type": "code",
   "execution_count": 1,
   "id": "a9fbcf3b",
   "metadata": {},
   "outputs": [
    {
     "name": "stdout",
     "output_type": "stream",
     "text": [
      "You got it right!!!\n"
     ]
    }
   ],
   "source": [
    "import random\n",
    "\n",
    "n1 = random.randint(0,9) #random digits generated\n",
    "n2 = random.randint(0,9)\n",
    "\n",
    "if (n1>n2):            #if condition\n",
    "    n1,n2 = n2,n1\n",
    "\n",
    "ans = int(input(\"what is\"+str(n1)+\"-\"+str(n2)+\"? \"))\n",
    "\n",
    "while n2-n1 != ans:\n",
    "    ans = int(input(\"what is\"+str(n1)+\"-\"+str(n2)+\"? \"))\n",
    "\n",
    "print(\"You got it right!!!\")    "
   ]
  },
  {
   "cell_type": "code",
   "execution_count": 4,
   "id": "2c129b14",
   "metadata": {},
   "outputs": [
    {
     "name": "stdout",
     "output_type": "stream",
     "text": [
      "  1\t  2\t  3\t  4\t  5\t  6\t  7\t  8\t  9\t"
     ]
    }
   ],
   "source": [
    "for j in range(1,10):\n",
    "    print(\" \",j,end = \"\\t\")"
   ]
  },
  {
   "cell_type": "code",
   "execution_count": null,
   "id": "e2ab28c5",
   "metadata": {},
   "outputs": [
    {
     "name": "stdout",
     "output_type": "stream",
     "text": [
      "                     MULTIPLICATION TABLE\n",
      "      1   2   3   4   5   6   7   8   9\n",
      "---------------------------------------------------------------------\n",
      "1 |   1   2   3   4   5   6   7   8   9\n",
      "2 |   2   4   6   8  10  12  14  16  18\n",
      "3 |   3   6   9  12  15  18  21  24  27\n",
      "4 |   4   8  12  16  20  24  28  32  36\n",
      "5 |   5  10  15  20  25  30  35  40  45\n",
      "6 |   6  12  18  24  30  36  42  48  54\n",
      "7 |   7  14  21  28  35  42  49  56  63\n",
      "8 |   8  16  24  32  40  48  56  64  72\n",
      "9 |   9  18  27  36  45  54  63  72  81\n"
     ]
    }
   ],
   "source": [
    "print(\"                     MULTIPLICATION TABLE\")\n",
    "print(\"  \",end =\" \")\n",
    "for j in range(1,10):\n",
    "    print(\"  \",j,end =\"\")\n",
    "print()\n",
    "print(\"---------------------------------------------------------------------\")  \n",
    "\n",
    "\n",
    "print()\n",
    "    "
   ]
  },
  {
   "cell_type": "code",
   "execution_count": null,
   "id": "426b1aad",
   "metadata": {},
   "outputs": [],
   "source": []
  }
 ],
 "metadata": {
  "kernelspec": {
   "display_name": "base",
   "language": "python",
   "name": "python3"
  },
  "language_info": {
   "codemirror_mode": {
    "name": "ipython",
    "version": 3
   },
   "file_extension": ".py",
   "mimetype": "text/x-python",
   "name": "python",
   "nbconvert_exporter": "python",
   "pygments_lexer": "ipython3",
   "version": "3.13.5"
  }
 },
 "nbformat": 4,
 "nbformat_minor": 5
}
