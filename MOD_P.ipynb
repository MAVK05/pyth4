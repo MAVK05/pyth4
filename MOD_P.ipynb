{
 "cells": [
  {
   "cell_type": "code",
   "execution_count": 1,
   "id": "6bf61985",
   "metadata": {},
   "outputs": [
    {
     "name": "stdout",
     "output_type": "stream",
     "text": [
      "Writing gcd.py\n"
     ]
    }
   ],
   "source": [
    "%%writefile gcd.py\n",
    "def gcd(n1, n2):\n",
    "    gcd = 1\n",
    "    k = 2\n",
    "    while k <= n1 and k <= n2:\n",
    "        if n1 % k == 0 and n2 % k == 0:\n",
    "            gcd = k\n",
    "        k += 1\n",
    "    return gcd\n"
   ]
  },
  {
   "cell_type": "code",
   "execution_count": 2,
   "id": "a486b8b3",
   "metadata": {},
   "outputs": [
    {
     "data": {
      "text/plain": [
       "10"
      ]
     },
     "execution_count": 2,
     "metadata": {},
     "output_type": "execute_result"
    }
   ],
   "source": [
    "from gcd import gcd\n",
    "gcd(10,20)"
   ]
  }
 ],
 "metadata": {
  "kernelspec": {
   "display_name": "base",
   "language": "python",
   "name": "python3"
  },
  "language_info": {
   "codemirror_mode": {
    "name": "ipython",
    "version": 3
   },
   "file_extension": ".py",
   "mimetype": "text/x-python",
   "name": "python",
   "nbconvert_exporter": "python",
   "pygments_lexer": "ipython3",
   "version": "3.13.5"
  }
 },
 "nbformat": 4,
 "nbformat_minor": 5
}
